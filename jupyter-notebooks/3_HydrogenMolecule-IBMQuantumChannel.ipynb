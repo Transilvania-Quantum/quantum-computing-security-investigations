{
 "cells": [
  {
   "cell_type": "code",
   "execution_count": 11,
   "metadata": {},
   "outputs": [],
   "source": [
    "import numpy\n",
    "import pylab\n",
    "\n",
    "from qiskit import QuantumCircuit, QuantumRegister, ClassicalRegister, transpile, execute\n",
    "from qiskit_algorithms.optimizers import SPSA, COBYLA\n",
    "from qiskit_algorithms.minimum_eigensolvers import NumPyMinimumEigensolver, VQE\n",
    "\n",
    "from qiskit_ibm_provider import IBMProvider, least_busy\n",
    "from qiskit.circuit.library import TwoLocal\n",
    "from qiskit.circuit.library.standard_gates import XGate\n",
    "from qiskit.primitives import Estimator\n",
    "from qiskit.quantum_info import SparsePauliOp\n",
    "from qiskit.tools.monitor import job_monitor\n",
    "from qiskit.visualization import plot_histogram\n",
    "\n",
    "import qiskit_nature\n",
    "qiskit_nature.settings.use_pauli_sum_op = False\n",
    "\n",
    "from qiskit_nature.units import DistanceUnit\n",
    "from qiskit_nature.second_q.algorithms import GroundStateEigensolver, VQEUCCFactory\n",
    "from qiskit_nature.second_q.algorithms.initial_points import HFInitialPoint\n",
    "from qiskit_nature.second_q.circuit.library import HartreeFock, UCCSD\n",
    "from qiskit_nature.second_q.formats.molecule_info import MoleculeInfo\n",
    "from qiskit_nature.second_q.mappers import JordanWignerMapper, QubitConverter\n",
    "\n",
    "from qiskit_ibm_runtime import QiskitRuntimeService, Options, Sampler, Session, Estimator"
   ]
  },
  {
   "cell_type": "code",
   "execution_count": 57,
   "metadata": {},
   "outputs": [],
   "source": [
    "# Your token can be found here: https://quantum-computing.ibm.com/\n",
    "API_TOKEN = \"?\""
   ]
  },
  {
   "cell_type": "code",
   "execution_count": 2,
   "metadata": {},
   "outputs": [],
   "source": [
    "# Save account credentials locally in $HOME/.qiskit/qiskit-ibm.json (you'll need to run this only once!). \n",
    "#IBMProvider.save_account(token=API_TOKEN, overwrite=True)"
   ]
  },
  {
   "cell_type": "code",
   "execution_count": 12,
   "metadata": {
    "scrolled": true
   },
   "outputs": [],
   "source": [
    "# Load a previously saved account and optionally select a \n",
    "# different hub/group/project in case you have access\n",
    "provider = IBMProvider(instance=\"ibm-q/open/main\")"
   ]
  },
  {
   "cell_type": "code",
   "execution_count": 13,
   "metadata": {},
   "outputs": [
    {
     "name": "stdout",
     "output_type": "stream",
     "text": [
      "Selected the least busy backend:  ibm_brisbane\n"
     ]
    }
   ],
   "source": [
    "# Select quantum device to run on. Select simulator -> True if you want to run on a simulator which is faster\n",
    "# INSPECT DEVICES YOU HAVE ACCESS TO HERE: https://quantum-computing.ibm.com/services/resources?tab=yours\n",
    "backends = provider.backends(filters=lambda x: x.configuration().n_qubits >= (2) \\\n",
    "    and (x.configuration().simulator == False) and (x.status().operational))\n",
    "backend = least_busy(backends)\n",
    "print(\"Selected the least busy backend: \", backend.name)"
   ]
  },
  {
   "cell_type": "code",
   "execution_count": 14,
   "metadata": {},
   "outputs": [],
   "source": [
    "# Due to a bug in current version of Qiskit, not all simulators can be used here\n",
    "# In case you want to use a simulator, instead of a real device, UNCOMMENT NEXT LINE\n",
    "backend = provider.get_backend(\"ibmq_qasm_simulator\")"
   ]
  },
  {
   "cell_type": "code",
   "execution_count": 15,
   "metadata": {},
   "outputs": [],
   "source": [
    "# Qiskit Runtime: is a programming model and containerized environment for deploying quantum programs, designed to reduce the \n",
    "# computational cycle time between quantum and classical computers. For details please checkout following resources\n",
    "# https://medium.com/qiskit/so-what-is-qiskit-runtime-anyway-c78aecf3742\n",
    "# https://qiskit.org/ecosystem/ibm-runtime/\n",
    "service = QiskitRuntimeService(channel=\"ibm_quantum\")\n",
    "backend = service.backend(backend.name)"
   ]
  },
  {
   "cell_type": "code",
   "execution_count": 16,
   "metadata": {},
   "outputs": [
    {
     "name": "stdout",
     "output_type": "stream",
     "text": [
      "The ground state electronic energy computed classically is:  -1.8572750302023824\n"
     ]
    }
   ],
   "source": [
    "# The solver is the algorithm through which the ground state is computed. \n",
    "# This solver in particular computes the molecule ground state classically\n",
    "npmes = NumPyMinimumEigensolver()\n",
    "\n",
    "H2_op = SparsePauliOp.from_list(\n",
    "    [\n",
    "        (\"II\", -1.052373245772859),\n",
    "        (\"IZ\", 0.39793742484318045),\n",
    "        (\"ZI\", -0.39793742484318045),\n",
    "        (\"ZZ\", -0.01128010425623538),\n",
    "        (\"XX\", 0.18093119978423156),\n",
    "    ]\n",
    ")\n",
    "\n",
    "classical_result = npmes.compute_minimum_eigenvalue(operator=H2_op)\n",
    "print(\"The ground state electronic energy computed classically is: \", classical_result.eigenvalue)"
   ]
  },
  {
   "cell_type": "code",
   "execution_count": 21,
   "metadata": {},
   "outputs": [],
   "source": [
    "# initializing an instance of qiskit_ibm_runtime.Sampler rather than \n",
    "# qiskit.primitives.Sampler to use Qiskit Runtime’s implementation of the Sampler\n",
    "options = Options(environment={\"log_level\": \"INFO\"})\n",
    "# optimization_level=3 adds dynamical decoupling\n",
    "options.optimization_level=3\n",
    "# resilience_level=1 adds readout error mitigation\n",
    "options.resilience_level=0\n",
    "options.execution.shots = 10000"
   ]
  },
  {
   "cell_type": "code",
   "execution_count": 22,
   "metadata": {},
   "outputs": [
    {
     "name": "stdout",
     "output_type": "stream",
     "text": [
      "Eval count:  1 Mean value:  -0.5987365482170048\n",
      "Eval count:  2 Mean value:  -0.541620326180593\n",
      "Eval count:  3 Mean value:  -0.46155333893864203\n",
      "Eval count:  4 Mean value:  -0.5467310795003932\n",
      "Eval count:  5 Mean value:  -0.7583569310595784\n",
      "Eval count:  6 Mean value:  -1.4030251750389944\n",
      "Eval count:  7 Mean value:  -1.3917568222017258\n",
      "Eval count:  8 Mean value:  -1.0339017267643038\n",
      "Eval count:  9 Mean value:  -1.101740718430043\n",
      "Eval count:  10 Mean value:  -1.803847523244317\n",
      "Eval count:  11 Mean value:  -1.4723690133674363\n",
      "Eval count:  12 Mean value:  -1.7696665827449714\n",
      "Eval count:  13 Mean value:  -1.7113271861873027\n",
      "Eval count:  14 Mean value:  -1.7706294985190105\n",
      "Eval count:  15 Mean value:  -1.7529569423144664\n",
      "Eval count:  16 Mean value:  -1.7843529721371927\n",
      "Eval count:  17 Mean value:  -1.740263556756942\n",
      "Eval count:  18 Mean value:  -1.638598599006317\n",
      "Eval count:  19 Mean value:  -1.836640637310722\n",
      "Eval count:  20 Mean value:  -1.8335636276510168\n",
      "Eval count:  21 Mean value:  -1.8431648652123047\n",
      "Eval count:  22 Mean value:  -1.8243562150288013\n",
      "Eval count:  23 Mean value:  -1.8316077241418807\n",
      "Eval count:  24 Mean value:  -1.8459215583602782\n",
      "Eval count:  25 Mean value:  -1.8338865696254776\n",
      "Eval count:  26 Mean value:  -1.8561855656379518\n",
      "Eval count:  27 Mean value:  -1.8470473210728033\n",
      "Eval count:  28 Mean value:  -1.8560837293041428\n",
      "Eval count:  29 Mean value:  -1.8565828654181382\n",
      "Eval count:  30 Mean value:  -1.8494631893057702\n",
      "Eval count:  31 Mean value:  -1.8552998273226962\n",
      "Eval count:  32 Mean value:  -1.8570438622959067\n",
      "Eval count:  33 Mean value:  -1.853743265485532\n",
      "Eval count:  34 Mean value:  -1.8619348721456959\n",
      "Eval count:  35 Mean value:  -1.8475047331342347\n",
      "Eval count:  36 Mean value:  -1.8574475839919644\n",
      "Eval count:  37 Mean value:  -1.8529898996090095\n",
      "Eval count:  38 Mean value:  -1.8566700353631895\n",
      "Eval count:  39 Mean value:  -1.8490925975470798\n",
      "Eval count:  40 Mean value:  -1.8575522678441707\n",
      "Eval count:  41 Mean value:  -1.8577941760373848\n",
      "Eval count:  42 Mean value:  -1.8580456981983962\n",
      "Eval count:  43 Mean value:  -1.8575541923047483\n",
      "Eval count:  44 Mean value:  -1.8554596737482716\n",
      "Eval count:  45 Mean value:  -1.8558625467652003\n",
      "Eval count:  46 Mean value:  -1.8554390380003367\n",
      "Eval count:  47 Mean value:  -1.8567109602417584\n",
      "Eval count:  48 Mean value:  -1.8556434253774081\n",
      "Eval count:  49 Mean value:  -1.8537742485329574\n",
      "Eval count:  50 Mean value:  -1.8587920710286097\n",
      "Eval count:  51 Mean value:  -1.8553768038344218\n",
      "Eval count:  52 Mean value:  -1.8554026272472428\n",
      "Eval count:  53 Mean value:  -1.8586305309069118\n",
      "Eval count:  54 Mean value:  -1.8550485380099127\n",
      "Eval count:  55 Mean value:  -1.8561888086416587\n",
      "Eval count:  56 Mean value:  -1.858364717510136\n",
      "Eval count:  57 Mean value:  -1.856097267513023\n",
      "Eval count:  58 Mean value:  -1.852261975103871\n",
      "Eval count:  59 Mean value:  -1.856585159417516\n",
      "Eval count:  60 Mean value:  -1.855270167491356\n",
      "Eval count:  61 Mean value:  -1.8529404874958737\n",
      "Eval count:  62 Mean value:  -1.8568720575885005\n",
      "Eval count:  63 Mean value:  -1.8561535142029315\n",
      "Eval count:  64 Mean value:  -1.853972866695842\n",
      "Eval count:  65 Mean value:  -1.8572886034211096\n",
      "Eval count:  66 Mean value:  -1.8598263746891557\n",
      "Eval count:  67 Mean value:  -1.8556733975444495\n",
      "Eval count:  68 Mean value:  -1.8584879307532538\n",
      "Eval count:  69 Mean value:  -1.8543177094204029\n",
      "Eval count:  70 Mean value:  -1.8537578940622699\n",
      "Eval count:  71 Mean value:  -1.8552820057527957\n",
      "Eval count:  72 Mean value:  -1.8572242244490256\n",
      "Eval count:  73 Mean value:  -1.8508582583108828\n",
      "Eval count:  74 Mean value:  -1.8596383396989986\n",
      "Eval count:  75 Mean value:  -1.8554804035700887\n",
      "Eval count:  76 Mean value:  -1.8536715385147475\n",
      "Eval count:  77 Mean value:  -1.854261689327404\n",
      "Eval count:  78 Mean value:  -1.854266870740972\n",
      "Eval count:  79 Mean value:  -1.8560813641523821\n",
      "Eval count:  80 Mean value:  -1.8573323383101679\n",
      "Eval count:  81 Mean value:  -1.857000227732049\n"
     ]
    }
   ],
   "source": [
    "counts = []\n",
    "values = []\n",
    "\n",
    "def print_and_store_intermediate_result(eval_count, parameters, mean, std):\n",
    "    print(\"Eval count: \", eval_count, \"Mean value: \", mean)\n",
    "    counts.append(eval_count)\n",
    "    values.append(mean)\n",
    "    \n",
    "with Session(service=service, backend=backend, max_time=\"10s\") as session:\n",
    "    # Qiskit runtimes uses one of two primitives a Sampler for sampling probabilities distributions or an Estimator\n",
    "    estimator = Estimator(options=options)\n",
    "    # the classical optimizer algorithm (other options exist here)\n",
    "    optimizer = COBYLA(maxiter=100)\n",
    "    # the ansatz is a just a guess for the wavefunction of the molecule whose parameters\n",
    "    # will be optimized by VQE class in order to find the valye of the ground state energy\n",
    "    ansatz = TwoLocal(rotation_blocks=\"ry\", entanglement_blocks=\"cz\")\n",
    "    \n",
    "    vqe = VQE(estimator, ansatz, optimizer, callback=print_and_store_intermediate_result)\n",
    "    result = vqe.compute_minimum_eigenvalue(operator=H2_op)"
   ]
  },
  {
   "cell_type": "code",
   "execution_count": 23,
   "metadata": {},
   "outputs": [
    {
     "name": "stdout",
     "output_type": "stream",
     "text": [
      "The ground state electronic energy obtained using a quantum algorithm is:  -1.857000227732049\n"
     ]
    }
   ],
   "source": [
    "print(\"The ground state electronic energy obtained using a quantum algorithm is: \", result.eigenvalue)"
   ]
  },
  {
   "cell_type": "code",
   "execution_count": 24,
   "metadata": {},
   "outputs": [
    {
     "data": {
      "text/plain": [
       "Text(0.5, 1.0, 'Convergence of VQE for the H2 molecule')"
      ]
     },
     "execution_count": 24,
     "metadata": {},
     "output_type": "execute_result"
    },
    {
     "data": {
      "image/png": "[encoded data removed]",
      "text/plain": [
       "<Figure size 1200x400 with 1 Axes>"
      ]
     },
     "metadata": {},
     "output_type": "display_data"
    }
   ],
   "source": [
    "pylab.rcParams[\"figure.figsize\"] = (12, 4)\n",
    "pylab.plot(counts, values)\n",
    "pylab.xlabel(\"Evaluation count\")\n",
    "pylab.ylabel(\"Ground State Energy\")\n",
    "pylab.title(\"Convergence of VQE for the H2 molecule\")"
   ]
  },
  {
   "cell_type": "code",
   "execution_count": 92,
   "metadata": {},
   "outputs": [
    {
     "data": {
      "text/html": [
       "<h3>Version Information</h3><table><tr><th>Software</th><th>Version</th></tr><tr><td><code>qiskit</code></td><td>0.44.2</td></tr><tr><td><code>qiskit-terra</code></td><td>0.25.2</td></tr><tr><td><code>qiskit_nature</code></td><td>0.6.2</td></tr><tr><td><code>qiskit_aer</code></td><td>0.12.2</td></tr><tr><td><code>qiskit_algorithms</code></td><td>0.2.1</td></tr><tr><td><code>qiskit_ibm_provider</code></td><td>0.7.0</td></tr><tr><td><code>qiskit_ibm_runtime</code></td><td>0.12.2</td></tr><tr><th colspan='2'>System information</th></tr><tr><td>Python version</td><td>3.9.5</td></tr><tr><td>Python compiler</td><td>GCC 11.2.0</td></tr><tr><td>Python build</td><td>default, May 23 2022 18:49:09</td></tr><tr><td>OS</td><td>Linux</td></tr><tr><td>CPUs</td><td>6</td></tr><tr><td>Memory (Gb)</td><td>15.295875549316406</td></tr><tr><td colspan='2'>Tue Oct 17 14:42:37 2023 EEST</td></tr></table>"
      ],
      "text/plain": [
       "<IPython.core.display.HTML object>"
      ]
     },
     "metadata": {},
     "output_type": "display_data"
    }
   ],
   "source": [
    "from qiskit.tools.jupyter import *\n",
    "\n",
    "%qiskit_version_table"
   ]
  },
  {
   "cell_type": "code",
   "execution_count": null,
   "metadata": {},
   "outputs": [],
   "source": []
  }
 ],
 "metadata": {
  "kernelspec": {
   "display_name": "Python 3 (ipykernel)",
   "language": "python",
   "name": "python3"
  },
  "language_info": {
   "codemirror_mode": {
    "name": "ipython",
    "version": 3
   },
   "file_extension": ".py",
   "mimetype": "text/x-python",
   "name": "python",
   "nbconvert_exporter": "python",
   "pygments_lexer": "ipython3",
   "version": "3.9.5"
  }
 },
 "nbformat": 4,
 "nbformat_minor": 4
}
