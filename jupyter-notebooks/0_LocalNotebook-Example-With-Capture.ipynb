{
 "cells": [
  {
   "cell_type": "code",
   "execution_count": 1,
   "metadata": {},
   "outputs": [],
   "source": [
    "from qiskit import QuantumCircuit, QuantumRegister, ClassicalRegister, transpile, execute\n",
    "from qiskit_ibm_provider import IBMProvider, least_busy\n",
    "from qiskit.circuit.library.standard_gates import XGate\n",
    "from qiskit.tools.monitor import job_monitor\n",
    "from qiskit.visualization import plot_histogram"
   ]
  },
  {
   "cell_type": "code",
   "execution_count": 2,
   "metadata": {},
   "outputs": [],
   "source": [
    "import warnings\n",
    "import contextlib\n",
    "\n",
    "import requests\n",
    "from urllib3.exceptions import InsecureRequestWarning\n",
    "\n",
    "old_merge_environment_settings = requests.Session.merge_environment_settings\n",
    "\n",
    "@contextlib.contextmanager\n",
    "def no_ssl_verification():\n",
    "    opened_adapters = set()\n",
    "\n",
    "    def merge_environment_settings(self, url, proxies, stream, verify, cert):\n",
    "        # Verification happens only once per connection so we need to close\n",
    "        # all the opened adapters once we're done. Otherwise, the effects of\n",
    "        # verify=False persist beyond the end of this context manager.\n",
    "        opened_adapters.add(self.get_adapter(url))\n",
    "\n",
    "        settings = old_merge_environment_settings(self, url, proxies, stream, verify, cert)\n",
    "        settings['verify'] = False\n",
    "\n",
    "        return settings\n",
    "\n",
    "    requests.Session.merge_environment_settings = merge_environment_settings\n",
    "\n",
    "    try:\n",
    "        with warnings.catch_warnings():\n",
    "            warnings.simplefilter('ignore', InsecureRequestWarning)\n",
    "            yield\n",
    "    finally:\n",
    "        requests.Session.merge_environment_settings = old_merge_environment_settings\n",
    "\n",
    "        for adapter in opened_adapters:\n",
    "            try:\n",
    "                adapter.close()\n",
    "            except:\n",
    "                pass"
   ]
  },
  {
   "cell_type": "code",
   "execution_count": 3,
   "metadata": {},
   "outputs": [],
   "source": [
    "# Your token can be found here: https://quantum-computing.ibm.com/\n",
    "API_TOKEN = \"?\""
   ]
  },
  {
   "cell_type": "code",
   "execution_count": 4,
   "metadata": {},
   "outputs": [],
   "source": [
    "# Save account credentials locally in $HOME/.qiskit/qiskit-ibm.json (you'll need to run this only once!). \n",
    "# IBMProvider.save_account(token=API_TOKEN, overwrite=True)"
   ]
  },
  {
   "cell_type": "code",
   "execution_count": 5,
   "metadata": {
    "scrolled": true
   },
   "outputs": [],
   "source": [
    "# Load a previously saved account and optionally select a \n",
    "# different hub/group/project in case you have access\n",
    "with no_ssl_verification():\n",
    "    provider = IBMProvider(instance=\"ibm-q/open/main\")"
   ]
  },
  {
   "cell_type": "code",
   "execution_count": 6,
   "metadata": {},
   "outputs": [
    {
     "data": {
      "text/html": [
       "<pre style=\"word-wrap: normal;white-space: pre;background: #fff0;line-height: 1.1;font-family: &quot;Courier New&quot;,Courier,monospace\">      ┌───┐      ░ ┌─┐            \n",
       "q0_0: ┤ H ├──■───░─┤M├────────────\n",
       "      ├───┤┌─┴─┐ ░ └╥┘┌─┐         \n",
       "q0_1: ┤ I ├┤ X ├─░──╫─┤M├─────────\n",
       "      ├───┤└───┘ ░  ║ └╥┘┌─┐      \n",
       "q0_2: ┤ H ├──■───░──╫──╫─┤M├──────\n",
       "      ├───┤┌─┴─┐ ░  ║  ║ └╥┘┌─┐   \n",
       "q0_3: ┤ I ├┤ X ├─░──╫──╫──╫─┤M├───\n",
       "      ├───┤└───┘ ░  ║  ║  ║ └╥┘┌─┐\n",
       "q0_4: ┤ T ├──────░──╫──╫──╫──╫─┤M├\n",
       "      └───┘      ░  ║  ║  ║  ║ └╥┘\n",
       "c0: 5/══════════════╩══╩══╩══╩══╩═\n",
       "                    0  1  2  3  4 </pre>"
      ],
      "text/plain": [
       "      ┌───┐      ░ ┌─┐            \n",
       "q0_0: ┤ H ├──■───░─┤M├────────────\n",
       "      ├───┤┌─┴─┐ ░ └╥┘┌─┐         \n",
       "q0_1: ┤ I ├┤ X ├─░──╫─┤M├─────────\n",
       "      ├───┤└───┘ ░  ║ └╥┘┌─┐      \n",
       "q0_2: ┤ H ├──■───░──╫──╫─┤M├──────\n",
       "      ├───┤┌─┴─┐ ░  ║  ║ └╥┘┌─┐   \n",
       "q0_3: ┤ I ├┤ X ├─░──╫──╫──╫─┤M├───\n",
       "      ├───┤└───┘ ░  ║  ║  ║ └╥┘┌─┐\n",
       "q0_4: ┤ T ├──────░──╫──╫──╫──╫─┤M├\n",
       "      └───┘      ░  ║  ║  ║  ║ └╥┘\n",
       "c0: 5/══════════════╩══╩══╩══╩══╩═\n",
       "                    0  1  2  3  4 "
      ]
     },
     "execution_count": 6,
     "metadata": {},
     "output_type": "execute_result"
    }
   ],
   "source": [
    "# Create a quantum circuit\n",
    "cr = ClassicalRegister(5)\n",
    "qr = QuantumRegister(5)\n",
    "qc = QuantumCircuit(qr, cr)\n",
    "\n",
    "qc.h(qr[0])\n",
    "qc.id(qr[1])\n",
    "qc.h(qr[2])\n",
    "qc.id(qr[3])\n",
    "qc.t(qr[4])\n",
    "\n",
    "qc.append(XGate().control(num_ctrl_qubits=1, ctrl_state='1'), [qr[0], qr[1]])\n",
    "qc.append(XGate().control(num_ctrl_qubits=1, ctrl_state='1'), [qr[2], qr[3]])\n",
    "\n",
    "# Circuit optimizations, if any, are \n",
    "# not applied beyond the barrier\n",
    "qc.barrier()\n",
    "\n",
    "qc.measure(0, 0)\n",
    "qc.measure(1, 1)\n",
    "qc.measure(2, 2)\n",
    "qc.measure(3, 3)\n",
    "qc.measure(4, 4)\n",
    "\n",
    "# Visualize the quantum circuit\n",
    "qc.draw()"
   ]
  },
  {
   "cell_type": "code",
   "execution_count": 7,
   "metadata": {},
   "outputs": [
    {
     "name": "stdout",
     "output_type": "stream",
     "text": [
      "Selected the least busy backend:  simulator_mps\n"
     ]
    }
   ],
   "source": [
    "with no_ssl_verification():\n",
    "    # Select quantum device to run on. Select simulator -> True if you want to run on a simulator which is faster\n",
    "    # INSPECT DEVICES YOU HAVE ACCESS TO HERE: https://quantum-computing.ibm.com/services/resources?tab=yours\n",
    "    backends = provider.backends(filters=lambda x: x.configuration().n_qubits >= (len(qc.qubits)) \\\n",
    "        and (x.configuration().simulator == True) and (x.status().operational))\n",
    "    backend = least_busy(backends)\n",
    "    print(\"Selected the least busy backend: \", backend.name)"
   ]
  },
  {
   "cell_type": "code",
   "execution_count": 8,
   "metadata": {},
   "outputs": [],
   "source": [
    "# Due to a bug in current version of Qiskit, not all simulators can be used here\n",
    "# In case you want to use a simulator, instead of a real device, UNCOMMENT NEXT LINE\n",
    "with no_ssl_verification():\n",
    "    backend = provider.get_backend(\"ibmq_qasm_simulator\")"
   ]
  },
  {
   "cell_type": "code",
   "execution_count": 9,
   "metadata": {},
   "outputs": [
    {
     "name": "stdout",
     "output_type": "stream",
     "text": [
      "<IBMCircuitJob('ckrqa56qk5t7uvralna0')>\n"
     ]
    }
   ],
   "source": [
    "# Transpile circuit and send it to a quantum device or to a simulator\n",
    "# INSPECT YOUR JOBS HERE: https://quantum-computing.ibm.com/jobs\n",
    "with no_ssl_verification():\n",
    "    try:\n",
    "        transpiled_circuit = transpile(qc, backend=backend, optimization_level=2)\n",
    "        job = execute(transpiled_circuit, backend, shots=100)\n",
    "        print(job)\n",
    "    except Exception as ex:\n",
    "        print(ex.message)"
   ]
  },
  {
   "cell_type": "code",
   "execution_count": 10,
   "metadata": {},
   "outputs": [
    {
     "name": "stdout",
     "output_type": "stream",
     "text": [
      "Job Status: job has successfully run\n"
     ]
    }
   ],
   "source": [
    "# Monitor live the job progress\n",
    "with no_ssl_verification():\n",
    "    job_monitor(job, interval=3)"
   ]
  },
  {
   "cell_type": "code",
   "execution_count": 12,
   "metadata": {},
   "outputs": [
    {
     "name": "stdout",
     "output_type": "stream",
     "text": [
      "\n",
      "Total counts are: {'01111': 19, '00000': 27, '00011': 27, '01100': 27}\n"
     ]
    }
   ],
   "source": [
    "# Print job results\n",
    "with no_ssl_verification():\n",
    "    results = job.result()\n",
    "    counts = results.get_counts(transpiled_circuit)\n",
    "    print(\"\\nTotal counts are:\", counts)"
   ]
  },
  {
   "cell_type": "code",
   "execution_count": 13,
   "metadata": {},
   "outputs": [
    {
     "data": {
      "image/png": "[encoded data removed]",
      "text/plain": [
       "<Figure size 700x500 with 1 Axes>"
      ]
     },
     "execution_count": 13,
     "metadata": {},
     "output_type": "execute_result"
    }
   ],
   "source": [
    "# Plot job results\n",
    "answer = results.get_counts()\n",
    "plot_histogram(answer)"
   ]
  },
  {
   "cell_type": "code",
   "execution_count": 95,
   "metadata": {},
   "outputs": [
    {
     "data": {
      "text/html": [
       "<h3>Version Information</h3><table><tr><th>Software</th><th>Version</th></tr><tr><td><code>qiskit</code></td><td>0.44.2</td></tr><tr><td><code>qiskit-terra</code></td><td>0.25.2</td></tr><tr><td><code>qiskit_ibm_provider</code></td><td>0.7.0</td></tr><tr><th colspan='2'>System information</th></tr><tr><td>Python version</td><td>3.9.5</td></tr><tr><td>Python compiler</td><td>GCC 11.2.0</td></tr><tr><td>Python build</td><td>default, May 23 2022 18:49:09</td></tr><tr><td>OS</td><td>Linux</td></tr><tr><td>CPUs</td><td>6</td></tr><tr><td>Memory (Gb)</td><td>15.295875549316406</td></tr><tr><td colspan='2'>Sat Oct 07 15:20:13 2023 EEST</td></tr></table>"
      ],
      "text/plain": [
       "<IPython.core.display.HTML object>"
      ]
     },
     "metadata": {},
     "output_type": "display_data"
    }
   ],
   "source": [
    "from qiskit.tools.jupyter import *\n",
    "\n",
    "%qiskit_version_table"
   ]
  },
  {
   "cell_type": "code",
   "execution_count": null,
   "metadata": {},
   "outputs": [],
   "source": []
  }
 ],
 "metadata": {
  "kernelspec": {
   "display_name": "Python 3 (ipykernel)",
   "language": "python",
   "name": "python3"
  },
  "language_info": {
   "codemirror_mode": {
    "name": "ipython",
    "version": 3
   },
   "file_extension": ".py",
   "mimetype": "text/x-python",
   "name": "python",
   "nbconvert_exporter": "python",
   "pygments_lexer": "ipython3",
   "version": "3.9.5"
  }
 },
 "nbformat": 4,
 "nbformat_minor": 4
}
