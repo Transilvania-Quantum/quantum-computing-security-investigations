{
 "cells": [
  {
   "cell_type": "code",
   "execution_count": 1,
   "metadata": {},
   "outputs": [],
   "source": [
    "import numpy\n",
    "import pylab\n",
    "\n",
    "from qiskit import QuantumCircuit, QuantumRegister, ClassicalRegister, transpile, execute\n",
    "from qiskit_algorithms.optimizers import SPSA, COBYLA\n",
    "from qiskit_algorithms.minimum_eigensolvers import NumPyMinimumEigensolver, VQE\n",
    "\n",
    "from qiskit_ibm_provider import IBMProvider, least_busy\n",
    "from qiskit.circuit.library import TwoLocal\n",
    "from qiskit.circuit.library.standard_gates import XGate\n",
    "from qiskit.primitives import Estimator\n",
    "from qiskit.quantum_info import SparsePauliOp\n",
    "from qiskit.tools.monitor import job_monitor\n",
    "from qiskit.visualization import plot_histogram\n",
    "\n",
    "import qiskit_nature\n",
    "qiskit_nature.settings.use_pauli_sum_op = False\n",
    "\n",
    "from qiskit_nature.units import DistanceUnit\n",
    "from qiskit_nature.second_q.algorithms import GroundStateEigensolver, VQEUCCFactory\n",
    "from qiskit_nature.second_q.algorithms.initial_points import HFInitialPoint\n",
    "from qiskit_nature.second_q.circuit.library import HartreeFock, UCCSD\n",
    "from qiskit_nature.second_q.formats.molecule_info import MoleculeInfo\n",
    "from qiskit_nature.second_q.mappers import JordanWignerMapper, QubitConverter\n",
    "\n",
    "from qiskit_ibm_runtime import QiskitRuntimeService, Options, Sampler, Session, Estimator"
   ]
  },
  {
   "cell_type": "code",
   "execution_count": 15,
   "metadata": {},
   "outputs": [],
   "source": [
    "# Your can find your API keys here: https://cloud.ibm.com/iam/apikeys\n",
    "MY_IBM_CLOUD_API_KEY = \"?\"\n",
    "# You can find your Cloud Resource Name instances here: https://cloud.ibm.com/quantum/instances\n",
    "MY_IBM_CLOUD_CRN = \"MUST_TO_ADD_YOUR_CRN_HERE!\""
   ]
  },
  {
   "cell_type": "code",
   "execution_count": 16,
   "metadata": {},
   "outputs": [],
   "source": [
    "# # Save cloud channel credentials locally in $HOME/.qiskit/qiskit-ibm.json (you'll need to run this only once!). \n",
    "QiskitRuntimeService.save_account(channel=\"ibm_cloud\", token=MY_IBM_CLOUD_API_KEY, instance=MY_IBM_CLOUD_CRN, overwrite=True)"
   ]
  },
  {
   "cell_type": "code",
   "execution_count": 17,
   "metadata": {
    "scrolled": true
   },
   "outputs": [],
   "source": [
    "# Load a previously saved account and optionally select a \n",
    "# different hub/group/project in case you have access\n",
    "provider = IBMProvider(instance=\"ibm-q/open/main\")"
   ]
  },
  {
   "cell_type": "code",
   "execution_count": 19,
   "metadata": {},
   "outputs": [],
   "source": [
    "# the ibmq_qasm_simulator works like a real quantum device, in particular the specified number of shots are taken\n",
    "# during simulation unlike other simulators like for example  state vector simulator where the ideal result is calculated\n",
    "backend = provider.get_backend(\"ibmq_qasm_simulator\")"
   ]
  },
  {
   "cell_type": "code",
   "execution_count": 20,
   "metadata": {},
   "outputs": [],
   "source": [
    "# Qiskit Runtime: is a programming model and containerized environment for deploying quantum programs, designed to reduce the \n",
    "# computational cycle time between quantum and classical computers. For details please checkout following resources\n",
    "# https://medium.com/qiskit/so-what-is-qiskit-runtime-anyway-c78aecf3742\n",
    "# https://qiskit.org/ecosystem/ibm-runtime/\n",
    "#service = QiskitRuntimeService(channel=\"ibm_quantum\")\n",
    "service = QiskitRuntimeService(channel=\"ibm_cloud\", instance=MY_IBM_CLOUD_CRN) # ADD YOUR CRN HERE !!!\n",
    "backend = service.backend(backend.name)"
   ]
  },
  {
   "cell_type": "code",
   "execution_count": 22,
   "metadata": {},
   "outputs": [
    {
     "name": "stdout",
     "output_type": "stream",
     "text": [
      "The ground state electronic energy computed classically is:  -1.8572750302023824\n"
     ]
    }
   ],
   "source": [
    "# The solver is the algorithm through which the ground state is computed. \n",
    "# This solver in particular computes the molecule ground state classically\n",
    "npmes = NumPyMinimumEigensolver()\n",
    "\n",
    "H2_op = SparsePauliOp.from_list(\n",
    "    [\n",
    "        (\"II\", -1.052373245772859),\n",
    "        (\"IZ\", 0.39793742484318045),\n",
    "        (\"ZI\", -0.39793742484318045),\n",
    "        (\"ZZ\", -0.01128010425623538),\n",
    "        (\"XX\", 0.18093119978423156),\n",
    "    ]\n",
    ")\n",
    "\n",
    "classical_result = npmes.compute_minimum_eigenvalue(operator=H2_op)\n",
    "print(\"The ground state electronic energy computed classically is: \", classical_result.eigenvalue)"
   ]
  },
  {
   "cell_type": "code",
   "execution_count": 23,
   "metadata": {},
   "outputs": [],
   "source": [
    "# initializing an instance of qiskit_ibm_runtime.Sampler rather than \n",
    "# qiskit.primitives.Sampler to use Qiskit Runtime’s implementation of the Sampler\n",
    "options = Options(environment={\"log_level\": \"INFO\"})\n",
    "# optimization_level=3 adds dynamical decoupling\n",
    "options.optimization_level=3\n",
    "# resilience_level=1 adds readout error mitigation\n",
    "options.resilience_level=0\n",
    "options.execution.shots = 100000"
   ]
  },
  {
   "cell_type": "code",
   "execution_count": 24,
   "metadata": {},
   "outputs": [
    {
     "name": "stdout",
     "output_type": "stream",
     "text": [
      "Eval count:  1 Mean value:  -1.4655708675513233\n",
      "Eval count:  2 Mean value:  -1.1860374834917962\n",
      "Eval count:  3 Mean value:  -1.5818423826474544\n",
      "Eval count:  4 Mean value:  -1.1492115644967023\n",
      "Eval count:  5 Mean value:  -1.1286897234581772\n",
      "Eval count:  6 Mean value:  -1.457394237008049\n",
      "Eval count:  7 Mean value:  -1.5355979159327142\n",
      "Eval count:  8 Mean value:  -1.3136606713525836\n",
      "Eval count:  9 Mean value:  -1.7956218937455874\n",
      "Eval count:  10 Mean value:  -1.5789049011496075\n",
      "Eval count:  11 Mean value:  -1.741211591207278\n",
      "Eval count:  12 Mean value:  -1.8483135381654883\n",
      "Eval count:  13 Mean value:  -1.8219438558825876\n",
      "Eval count:  14 Mean value:  -1.8215762840128313\n",
      "Eval count:  15 Mean value:  -1.7610177340436057\n",
      "Eval count:  16 Mean value:  -1.797377283121053\n",
      "Eval count:  17 Mean value:  -1.8149112975564903\n",
      "Eval count:  18 Mean value:  -1.839263332604623\n",
      "Eval count:  19 Mean value:  -1.8495692731894458\n",
      "Eval count:  20 Mean value:  -1.836786616604074\n",
      "Eval count:  21 Mean value:  -1.853846508792388\n",
      "Eval count:  22 Mean value:  -1.8475673761876084\n",
      "Eval count:  23 Mean value:  -1.847925656098962\n",
      "Eval count:  24 Mean value:  -1.8537949570167198\n",
      "Eval count:  25 Mean value:  -1.8525821340136774\n",
      "Eval count:  26 Mean value:  -1.8521570912407377\n",
      "Eval count:  27 Mean value:  -1.843235687457197\n",
      "Eval count:  28 Mean value:  -1.856507816721702\n",
      "Eval count:  29 Mean value:  -1.8514738042428973\n",
      "Eval count:  30 Mean value:  -1.8563668200806522\n",
      "Eval count:  31 Mean value:  -1.8500750998618067\n",
      "Eval count:  32 Mean value:  -1.8551370113214782\n",
      "Eval count:  33 Mean value:  -1.8561288558896898\n",
      "Eval count:  34 Mean value:  -1.8534591997531205\n",
      "Eval count:  35 Mean value:  -1.8553210794637804\n",
      "Eval count:  36 Mean value:  -1.8543235447276758\n",
      "Eval count:  37 Mean value:  -1.8556217783822948\n",
      "Eval count:  38 Mean value:  -1.8565377784976023\n",
      "Eval count:  39 Mean value:  -1.8567098967925149\n",
      "Eval count:  40 Mean value:  -1.8571289341469557\n",
      "Eval count:  41 Mean value:  -1.8571024710571775\n",
      "Eval count:  42 Mean value:  -1.8565859290771485\n",
      "Eval count:  43 Mean value:  -1.8572752808113266\n",
      "Eval count:  44 Mean value:  -1.8569795553920359\n",
      "Eval count:  45 Mean value:  -1.8569600997645992\n",
      "Eval count:  46 Mean value:  -1.8566743021644896\n",
      "Eval count:  47 Mean value:  -1.857017119411503\n",
      "Eval count:  48 Mean value:  -1.8572215712656672\n",
      "Eval count:  49 Mean value:  -1.8575530262811444\n",
      "Eval count:  50 Mean value:  -1.8570818399017242\n",
      "Eval count:  51 Mean value:  -1.8570978835897733\n",
      "Eval count:  52 Mean value:  -1.8572197401202057\n",
      "Eval count:  53 Mean value:  -1.8565891638432268\n",
      "Eval count:  54 Mean value:  -1.8568935805845348\n",
      "Eval count:  55 Mean value:  -1.857288574030264\n",
      "Eval count:  56 Mean value:  -1.8568094004586124\n",
      "Eval count:  57 Mean value:  -1.8572068778463482\n",
      "Eval count:  58 Mean value:  -1.8571256245125256\n",
      "Eval count:  59 Mean value:  -1.8572960230731075\n",
      "Eval count:  60 Mean value:  -1.8570970359458525\n",
      "Eval count:  61 Mean value:  -1.856956319507817\n",
      "Eval count:  62 Mean value:  -1.8572859792146676\n",
      "Eval count:  63 Mean value:  -1.8574891313817705\n",
      "Eval count:  64 Mean value:  -1.8572023520447636\n",
      "Eval count:  65 Mean value:  -1.8573287062060673\n",
      "Eval count:  66 Mean value:  -1.8568118028408938\n",
      "Eval count:  67 Mean value:  -1.857008362302925\n",
      "Eval count:  68 Mean value:  -1.857600009111197\n",
      "Eval count:  69 Mean value:  -1.856834686640533\n",
      "Eval count:  70 Mean value:  -1.8569784731117822\n",
      "Eval count:  71 Mean value:  -1.8569529622621443\n",
      "Eval count:  72 Mean value:  -1.8567982087812056\n",
      "Eval count:  73 Mean value:  -1.8568009616045946\n",
      "Eval count:  74 Mean value:  -1.8576061259364907\n",
      "Eval count:  75 Mean value:  -1.8569661661156465\n",
      "Eval count:  76 Mean value:  -1.857306105128624\n",
      "Eval count:  77 Mean value:  -1.8574024106118028\n",
      "Eval count:  78 Mean value:  -1.8572481212899332\n",
      "Eval count:  79 Mean value:  -1.8567576423169487\n",
      "Eval count:  80 Mean value:  -1.85721197068035\n",
      "Eval count:  81 Mean value:  -1.8570980076760035\n",
      "Eval count:  82 Mean value:  -1.8569285968536273\n",
      "Eval count:  83 Mean value:  -1.8566287182402235\n",
      "Eval count:  84 Mean value:  -1.8572689731529823\n",
      "Eval count:  85 Mean value:  -1.8574281267165333\n",
      "Eval count:  86 Mean value:  -1.8567646149577541\n",
      "Eval count:  87 Mean value:  -1.8569241775472474\n",
      "Eval count:  88 Mean value:  -1.8571539142765192\n",
      "Eval count:  89 Mean value:  -1.8572575401014286\n",
      "Eval count:  90 Mean value:  -1.857061599306506\n",
      "Eval count:  91 Mean value:  -1.8571516349066077\n",
      "Eval count:  92 Mean value:  -1.8570756254924605\n",
      "Eval count:  93 Mean value:  -1.8570756394310912\n",
      "Eval count:  94 Mean value:  -1.8573549646548657\n"
     ]
    }
   ],
   "source": [
    "counts = []\n",
    "values = []\n",
    "\n",
    "def print_and_store_intermediate_result(eval_count, parameters, mean, std):\n",
    "    print(\"Eval count: \", eval_count, \"Mean value: \", mean)\n",
    "    counts.append(eval_count)\n",
    "    values.append(mean)\n",
    "    \n",
    "with Session(service=service, backend=backend, max_time=\"10s\") as session:\n",
    "    # Qiskit runtimes uses one of two primitives a Sampler for sampling probabilities distributions or an Estimator\n",
    "    estimator = Estimator(options=options)\n",
    "    # the classical optimizer algorithm (other options exist here)\n",
    "    optimizer = COBYLA(maxiter=100)\n",
    "    # the ansatz is a just a guess for the wavefunction of the molecule whose parameters\n",
    "    # will be optimized by VQE class in order to find the valye of the ground state energy\n",
    "    ansatz = TwoLocal(rotation_blocks=\"ry\", entanglement_blocks=\"cz\")\n",
    "    \n",
    "    vqe = VQE(estimator, ansatz, optimizer, callback=print_and_store_intermediate_result)\n",
    "    result = vqe.compute_minimum_eigenvalue(operator=H2_op)"
   ]
  },
  {
   "cell_type": "code",
   "execution_count": 25,
   "metadata": {},
   "outputs": [
    {
     "name": "stdout",
     "output_type": "stream",
     "text": [
      "The ground state electronic energy obtained using a quantum algorithm is:  -1.8573549646548657\n"
     ]
    }
   ],
   "source": [
    "print(\"The ground state electronic energy obtained using a quantum algorithm is: \", result.eigenvalue)"
   ]
  },
  {
   "cell_type": "code",
   "execution_count": 28,
   "metadata": {},
   "outputs": [
    {
     "data": {
      "text/plain": [
       "Text(0.5, 1.0, 'Convergence of VQE for the H2 molecule')"
      ]
     },
     "execution_count": 28,
     "metadata": {},
     "output_type": "execute_result"
    },
    {
     "data": {
      "image/png": "[encoded data removed]",
      "text/plain": [
       "<Figure size 1200x400 with 1 Axes>"
      ]
     },
     "metadata": {},
     "output_type": "display_data"
    }
   ],
   "source": [
    "pylab.rcParams[\"figure.figsize\"] = (12, 4)\n",
    "pylab.plot(counts, values)\n",
    "pylab.xlabel(\"Evaluation count\")\n",
    "pylab.ylabel(\"Ground State Energy\")\n",
    "pylab.title(\"Convergence of VQE for the H2 molecule\")"
   ]
  },
  {
   "cell_type": "code",
   "execution_count": 27,
   "metadata": {},
   "outputs": [
    {
     "data": {
      "text/html": [
       "<h3>Version Information</h3><table><tr><th>Software</th><th>Version</th></tr><tr><td><code>qiskit</code></td><td>0.44.2</td></tr><tr><td><code>qiskit-terra</code></td><td>0.25.2</td></tr><tr><td><code>qiskit_ibm_provider</code></td><td>0.7.0</td></tr><tr><td><code>qiskit_nature</code></td><td>0.6.2</td></tr><tr><td><code>qiskit_aer</code></td><td>0.12.2</td></tr><tr><td><code>qiskit_ibm_runtime</code></td><td>0.12.2</td></tr><tr><td><code>qiskit_algorithms</code></td><td>0.2.1</td></tr><tr><th colspan='2'>System information</th></tr><tr><td>Python version</td><td>3.9.5</td></tr><tr><td>Python compiler</td><td>GCC 11.2.0</td></tr><tr><td>Python build</td><td>default, May 23 2022 18:49:09</td></tr><tr><td>OS</td><td>Linux</td></tr><tr><td>CPUs</td><td>6</td></tr><tr><td>Memory (Gb)</td><td>15.295875549316406</td></tr><tr><td colspan='2'>Tue Oct 17 14:40:27 2023 EEST</td></tr></table>"
      ],
      "text/plain": [
       "<IPython.core.display.HTML object>"
      ]
     },
     "metadata": {},
     "output_type": "display_data"
    }
   ],
   "source": [
    "from qiskit.tools.jupyter import *\n",
    "\n",
    "%qiskit_version_table"
   ]
  },
  {
   "cell_type": "code",
   "execution_count": null,
   "metadata": {},
   "outputs": [],
   "source": []
  }
 ],
 "metadata": {
  "kernelspec": {
   "display_name": "Python 3 (ipykernel)",
   "language": "python",
   "name": "python3"
  },
  "language_info": {
   "codemirror_mode": {
    "name": "ipython",
    "version": 3
   },
   "file_extension": ".py",
   "mimetype": "text/x-python",
   "name": "python",
   "nbconvert_exporter": "python",
   "pygments_lexer": "ipython3",
   "version": "3.9.5"
  }
 },
 "nbformat": 4,
 "nbformat_minor": 4
}
