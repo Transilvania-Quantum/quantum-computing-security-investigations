{
 "cells": [
  {
   "cell_type": "code",
   "execution_count": 7,
   "metadata": {},
   "outputs": [],
   "source": [
    "from qiskit.qasm import pi\n",
    "from qiskit import QuantumCircuit, QuantumRegister, ClassicalRegister, transpile, execute\n",
    "from qiskit_ibm_provider import IBMProvider, least_busy\n",
    "from qiskit.circuit.library.standard_gates import XGate\n",
    "from qiskit.tools.monitor import job_monitor\n",
    "from qiskit.visualization import plot_histogram, plot_circuit_layout"
   ]
  },
  {
   "cell_type": "code",
   "execution_count": 8,
   "metadata": {},
   "outputs": [],
   "source": [
    "# Your token can be found here: https://quantum-computing.ibm.com/\n",
    "API_TOKEN = \"?\""
   ]
  },
  {
   "cell_type": "code",
   "execution_count": 9,
   "metadata": {},
   "outputs": [],
   "source": [
    "# Save account credentials locally in $HOME/.qiskit/qiskit-ibm.json (you'll need to run this only once!). \n",
    "# IBMProvider.save_account(token=API_TOKEN, overwrite=True)"
   ]
  },
  {
   "cell_type": "code",
   "execution_count": 10,
   "metadata": {
    "scrolled": true
   },
   "outputs": [],
   "source": [
    "# Load a previously saved account and optionally select a \n",
    "# different hub/group/project in case you have access\n",
    "provider = IBMProvider(instance=\"ibm-q/open/main\")"
   ]
  },
  {
   "cell_type": "code",
   "execution_count": 11,
   "metadata": {},
   "outputs": [],
   "source": [
    "# Use the simulator since is faster\n",
    "backend = provider.get_backend(\"ibmq_qasm_simulator\")"
   ]
  },
  {
   "cell_type": "markdown",
   "metadata": {},
   "source": [
    "### A simple experiment where an Rx gate is applied to one qubit get asymmetric results when measuring"
   ]
  },
  {
   "cell_type": "code",
   "execution_count": 12,
   "metadata": {},
   "outputs": [
    {
     "data": {
      "text/html": [
       "<pre style=\"word-wrap: normal;white-space: pre;background: #fff0;line-height: 1.1;font-family: &quot;Courier New&quot;,Courier,monospace\">     ┌──────────┐┌─┐\n",
       "  a: ┤ Rx(2π/9) ├┤M├\n",
       "     └──────────┘└╥┘\n",
       "c: 1/═════════════╩═\n",
       "                  0 </pre>"
      ],
      "text/plain": [
       "     ┌──────────┐┌─┐\n",
       "  a: ┤ Rx(2π/9) ├┤M├\n",
       "     └──────────┘└╥┘\n",
       "c: 1/═════════════╩═\n",
       "                  0 "
      ]
     },
     "execution_count": 12,
     "metadata": {},
     "output_type": "execute_result"
    }
   ],
   "source": [
    "# Create a quantum circuit\n",
    "cr = ClassicalRegister(1, 'c')\n",
    "qr = QuantumRegister(1, 'a')\n",
    "qc = QuantumCircuit(qr, cr)\n",
    "\n",
    "# rotate the one qubit by applying an RX gate corresponding\n",
    "# to a rotation around X axis with an angle theta \n",
    "theta = 2 * pi / 9\n",
    "qc.rx(theta, 0)\n",
    "qc.measure(qr, cr)\n",
    "\n",
    "# Visualize the quantum circuit\n",
    "qc.draw()"
   ]
  },
  {
   "cell_type": "code",
   "execution_count": 7,
   "metadata": {},
   "outputs": [
    {
     "name": "stdout",
     "output_type": "stream",
     "text": [
      "<IBMCircuitJob('cl4aq7iava4gfgvgig7g')>\n"
     ]
    }
   ],
   "source": [
    "# Transpile circuit and send it to a quantum device or to a simulator\n",
    "# INSPECT YOUR JOBS HERE: https://quantum-computing.ibm.com/jobs\n",
    "try:\n",
    "    transpiled_circuit = transpile(qc, backend=backend, optimization_level=2)\n",
    "    job = execute(transpiled_circuit, backend, shots=100)\n",
    "    print(job)\n",
    "except Exception as ex:\n",
    "    print(ex.message)"
   ]
  },
  {
   "cell_type": "code",
   "execution_count": 8,
   "metadata": {},
   "outputs": [
    {
     "data": {
      "image/png": "[encoded data removed]",
      "text/plain": [
       "<Figure size 700x500 with 1 Axes>"
      ]
     },
     "execution_count": 8,
     "metadata": {},
     "output_type": "execute_result"
    }
   ],
   "source": [
    "# Get job result\n",
    "results = job.result()\n",
    "# Plot job results: these are the result after aplying a quantum gate which rotates one qubit\n",
    "# with angle theta. Note that the results are not symmetric, 0 state is measured more often than 1\n",
    "answer = results.get_counts()\n",
    "plot_histogram(answer)"
   ]
  },
  {
   "cell_type": "markdown",
   "metadata": {},
   "source": [
    "### Now we are doing the teleportation experiment"
   ]
  },
  {
   "cell_type": "code",
   "execution_count": 9,
   "metadata": {},
   "outputs": [
    {
     "name": "stdout",
     "output_type": "stream",
     "text": [
      "Selected the least busy backend:  ibm_nairobi\n"
     ]
    }
   ],
   "source": [
    "# Select quantum device to run on. Select simulator -> True if you want to run on a simulator which is faster\n",
    "# INSPECT DEVICES YOU HAVE ACCESS TO HERE: https://quantum-computing.ibm.com/services/resources?tab=yours\n",
    "backends = provider.backends(filters=lambda x: x.configuration().n_qubits >= (len(qc.qubits)) \\\n",
    "    and (x.configuration().simulator == False) and (x.status().operational))\n",
    "backend = least_busy(backends)\n",
    "print(\"Selected the least busy backend: \", backend.name)"
   ]
  },
  {
   "cell_type": "code",
   "execution_count": 13,
   "metadata": {},
   "outputs": [
    {
     "data": {
      "text/html": [
       "<pre style=\"word-wrap: normal;white-space: pre;background: #fff0;line-height: 1.1;font-family: &quot;Courier New&quot;,Courier,monospace\">                      ░ ┌───┐      ░ ┌───┐ ░      ┌─┐    ░             »\n",
       "      a: ─────────────░─┤ H ├──■───░─┤ X ├─░──────┤M├────░─────────────»\n",
       "         ┌──────────┐ ░ └───┘  │   ░ └─┬─┘ ░ ┌───┐└╥┘┌─┐ ░             »\n",
       "      q: ┤ Rx(2π/9) ├─░────────┼───░───■───░─┤ H ├─╫─┤M├─░─────────────»\n",
       "         └──────────┘ ░      ┌─┴─┐ ░       ░ └───┘ ║ └╥┘ ░ ┌──────────┐»\n",
       "      b: ─────────────░──────┤ X ├─░───────░───────╫──╫──░─┤0         ├»\n",
       "                      ░      └───┘ ░       ░       ║  ║  ░ │          │»\n",
       "alice_0: ══════════════════════════════════════════╬══╩════╡          ╞»\n",
       "                                                   ║       │          │»\n",
       "alice_1: ══════════════════════════════════════════╩═══════╡0         ╞»\n",
       "                                                           └──────────┘»\n",
       "    bob: ══════════════════════════════════════════════════════════════»\n",
       "                                                                       »\n",
       "«                      ░    \n",
       "«      a: ─────────────░────\n",
       "«                      ░    \n",
       "«      q: ─────────────░────\n",
       "«         ┌──────────┐ ░ ┌─┐\n",
       "«      b: ┤0         ├─░─┤M├\n",
       "«         │  If_else │ ░ └╥┘\n",
       "«alice_0: ╡0         ╞════╬═\n",
       "«         └──────────┘    ║ \n",
       "«alice_1: ════════════════╬═\n",
       "«                         ║ \n",
       "«    bob: ════════════════╩═\n",
       "«                           </pre>"
      ],
      "text/plain": [
       "                      ░ ┌───┐      ░ ┌───┐ ░      ┌─┐    ░             »\n",
       "      a: ─────────────░─┤ H ├──■───░─┤ X ├─░──────┤M├────░─────────────»\n",
       "         ┌──────────┐ ░ └───┘  │   ░ └─┬─┘ ░ ┌───┐└╥┘┌─┐ ░             »\n",
       "      q: ┤ Rx(2π/9) ├─░────────┼───░───■───░─┤ H ├─╫─┤M├─░─────────────»\n",
       "         └──────────┘ ░      ┌─┴─┐ ░       ░ └───┘ ║ └╥┘ ░ ┌──────────┐»\n",
       "      b: ─────────────░──────┤ X ├─░───────░───────╫──╫──░─┤0         ├»\n",
       "                      ░      └───┘ ░       ░       ║  ║  ░ │          │»\n",
       "alice_0: ══════════════════════════════════════════╬══╩════╡          ╞»\n",
       "                                                   ║       │          │»\n",
       "alice_1: ══════════════════════════════════════════╩═══════╡0         ╞»\n",
       "                                                           └──────────┘»\n",
       "    bob: ══════════════════════════════════════════════════════════════»\n",
       "                                                                       »\n",
       "«                      ░    \n",
       "«      a: ─────────────░────\n",
       "«                      ░    \n",
       "«      q: ─────────────░────\n",
       "«         ┌──────────┐ ░ ┌─┐\n",
       "«      b: ┤0         ├─░─┤M├\n",
       "«         │  If_else │ ░ └╥┘\n",
       "«alice_0: ╡0         ╞════╬═\n",
       "«         └──────────┘    ║ \n",
       "«alice_1: ════════════════╬═\n",
       "«                         ║ \n",
       "«    bob: ════════════════╩═\n",
       "«                           "
      ]
     },
     "execution_count": 13,
     "metadata": {},
     "output_type": "execute_result"
    }
   ],
   "source": [
    "alice = QuantumRegister(1, 'a')\n",
    "qubit = QuantumRegister(1, 'q')\n",
    "bob = QuantumRegister(1, 'b')\n",
    "\n",
    "classic_alice_register = ClassicalRegister(2, 'alice')\n",
    "classic_bob_register = ClassicalRegister(1, 'bob')\n",
    "\n",
    "qc = QuantumCircuit(alice, qubit, bob, classic_alice_register, classic_bob_register)\n",
    "\n",
    "# Prepare the state of the qubit we will teleport\n",
    "qc.rx(theta, 1)\n",
    "qc.barrier()\n",
    "\n",
    "# Entangle Alice and Bob\n",
    "qc.h(0)\n",
    "qc.cx(0, 2)\n",
    "qc.barrier()\n",
    "\n",
    "# Entangle Alice and Qubit \n",
    "qc.cx(1, 0)\n",
    "qc.barrier()\n",
    "\n",
    "# Measure in a basis roated by appplying a hadamard gate\n",
    "qc.h(1)\n",
    "qc.measure(1, classic_alice_register[0])\n",
    "qc.measure(0, classic_alice_register[1])\n",
    "qc.barrier()\n",
    "\n",
    "# Finalize teleport procedure using the dynamic circuits capabilities meaning that\n",
    "# based on measurement results the computation is steered one way or another\n",
    "with qc.if_test((classic_alice_register[1], 1)):\n",
    "    qc.x(2)\n",
    "    \n",
    "with qc.if_test((classic_alice_register[0], 1)):\n",
    "    qc.z(2)\n",
    "qc.barrier()\n",
    "\n",
    "# Now measure Bob's qubit to verify that the Qubit's state was teleported to Bob\n",
    "qc.measure(2, classic_bob_register)\n",
    "\n",
    "# Visualize the quantum circuit\n",
    "qc.draw()"
   ]
  },
  {
   "cell_type": "code",
   "execution_count": 12,
   "metadata": {},
   "outputs": [
    {
     "data": {
      "text/plain": [
       "[(0, 1),\n",
       " (1, 0),\n",
       " (1, 2),\n",
       " (1, 3),\n",
       " (2, 1),\n",
       " (3, 1),\n",
       " (3, 5),\n",
       " (4, 5),\n",
       " (5, 3),\n",
       " (5, 4),\n",
       " (5, 6),\n",
       " (6, 5)]"
      ]
     },
     "execution_count": 12,
     "metadata": {},
     "output_type": "execute_result"
    }
   ],
   "source": [
    "# Plot qubit coupling map to identify 3 qubits connected\n",
    "# Here we see that 1 is connected to 2 and is connected to 3\n",
    "list(backend.coupling_map)"
   ]
  },
  {
   "cell_type": "code",
   "execution_count": 13,
   "metadata": {},
   "outputs": [],
   "source": [
    "# Transpile the circuit in order to run on a real device\n",
    "transpiled_circuit = transpile(qc, backend=backend, optimization_level=2, initial_layout=[1,2,3])"
   ]
  },
  {
   "cell_type": "code",
   "execution_count": 14,
   "metadata": {},
   "outputs": [
    {
     "data": {
      "image/png": "[encoded data removed]",
      "text/plain": [
       "<Figure size 500x500 with 1 Axes>"
      ]
     },
     "execution_count": 14,
     "metadata": {},
     "output_type": "execute_result"
    }
   ],
   "source": [
    "# I want to verify that my qubits that I selected with initial_layout argument are connected\n",
    "plot_circuit_layout(transpiled_circuit, backend)"
   ]
  },
  {
   "cell_type": "code",
   "execution_count": 15,
   "metadata": {},
   "outputs": [
    {
     "name": "stdout",
     "output_type": "stream",
     "text": [
      "<IBMCircuitJob('cn4atrvrmwhg008k125g')>\n"
     ]
    }
   ],
   "source": [
    "# Transpile circuit and send it to a quantum device or to a simulator\n",
    "# INSPECT YOUR JOBS HERE: https://quantum-computing.ibm.com/jobs\n",
    "try:\n",
    "    job = execute(transpiled_circuit, backend, shots=100)\n",
    "    print(job)\n",
    "except Exception as ex:\n",
    "    print(ex.message)"
   ]
  },
  {
   "cell_type": "code",
   "execution_count": 16,
   "metadata": {},
   "outputs": [
    {
     "name": "stdout",
     "output_type": "stream",
     "text": [
      "Job Status: job has successfully run\n"
     ]
    }
   ],
   "source": [
    "# Monitor live the job progress\n",
    "job_monitor(job, interval=3)"
   ]
  },
  {
   "cell_type": "code",
   "execution_count": 17,
   "metadata": {},
   "outputs": [
    {
     "data": {
      "image/png": "[encoded data removed]",
      "text/plain": [
       "<Figure size 700x500 with 1 Axes>"
      ]
     },
     "execution_count": 17,
     "metadata": {},
     "output_type": "execute_result"
    }
   ],
   "source": [
    "# Get job result\n",
    "results = job.result()\n",
    "# Plot job results: these are the result after aplying a quantum gate which rotates one qubit\n",
    "# with angle theta. Note that the results are not symmetric, 0 state is measured more often than 1\n",
    "answer = results.get_counts()\n",
    "plot_histogram(answer)"
   ]
  },
  {
   "cell_type": "code",
   "execution_count": 120,
   "metadata": {},
   "outputs": [
    {
     "data": {
      "text/html": [
       "<h3>Version Information</h3><table><tr><th>Software</th><th>Version</th></tr><tr><td><code>qiskit</code></td><td>0.44.3</td></tr><tr><td><code>qiskit-terra</code></td><td>0.25.2</td></tr><tr><td><code>qiskit_ibm_provider</code></td><td>0.7.0</td></tr><tr><th colspan='2'>System information</th></tr><tr><td>Python version</td><td>3.9.5</td></tr><tr><td>Python compiler</td><td>GCC 11.2.0</td></tr><tr><td>Python build</td><td>default, May 23 2022 18:49:09</td></tr><tr><td>OS</td><td>Linux</td></tr><tr><td>CPUs</td><td>6</td></tr><tr><td>Memory (Gb)</td><td>15.29586410522461</td></tr><tr><td colspan='2'>Thu Nov 02 09:22:13 2023 EET</td></tr></table>"
      ],
      "text/plain": [
       "<IPython.core.display.HTML object>"
      ]
     },
     "metadata": {},
     "output_type": "display_data"
    }
   ],
   "source": [
    "from qiskit.tools.jupyter import *\n",
    "\n",
    "%qiskit_version_table"
   ]
  },
  {
   "cell_type": "code",
   "execution_count": null,
   "metadata": {},
   "outputs": [],
   "source": []
  }
 ],
 "metadata": {
  "kernelspec": {
   "display_name": "Python 3 (ipykernel)",
   "language": "python",
   "name": "python3"
  },
  "language_info": {
   "codemirror_mode": {
    "name": "ipython",
    "version": 3
   },
   "file_extension": ".py",
   "mimetype": "text/x-python",
   "name": "python",
   "nbconvert_exporter": "python",
   "pygments_lexer": "ipython3",
   "version": "3.9.5"
  }
 },
 "nbformat": 4,
 "nbformat_minor": 4
}
