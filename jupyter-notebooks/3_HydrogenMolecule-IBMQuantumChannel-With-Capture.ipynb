{
 "cells": [
  {
   "cell_type": "code",
   "execution_count": 1,
   "metadata": {},
   "outputs": [],
   "source": [
    "import numpy\n",
    "import pylab\n",
    "\n",
    "from qiskit import QuantumCircuit, QuantumRegister, ClassicalRegister, transpile, execute\n",
    "from qiskit_algorithms.optimizers import SPSA, COBYLA\n",
    "from qiskit_algorithms.minimum_eigensolvers import NumPyMinimumEigensolver, VQE\n",
    "\n",
    "from qiskit_ibm_provider import IBMProvider, least_busy\n",
    "from qiskit.circuit.library import TwoLocal\n",
    "from qiskit.circuit.library.standard_gates import XGate\n",
    "from qiskit.primitives import Estimator\n",
    "from qiskit.quantum_info import SparsePauliOp\n",
    "from qiskit.tools.monitor import job_monitor\n",
    "from qiskit.visualization import plot_histogram\n",
    "\n",
    "import qiskit_nature\n",
    "qiskit_nature.settings.use_pauli_sum_op = False\n",
    "\n",
    "from qiskit_nature.units import DistanceUnit\n",
    "from qiskit_nature.second_q.algorithms import GroundStateEigensolver, VQEUCCFactory\n",
    "from qiskit_nature.second_q.algorithms.initial_points import HFInitialPoint\n",
    "from qiskit_nature.second_q.circuit.library import HartreeFock, UCCSD\n",
    "from qiskit_nature.second_q.formats.molecule_info import MoleculeInfo\n",
    "from qiskit_nature.second_q.mappers import JordanWignerMapper, QubitConverter\n",
    "\n",
    "from qiskit_ibm_runtime import QiskitRuntimeService, Options, Sampler, Session, Estimator"
   ]
  },
  {
   "cell_type": "code",
   "execution_count": 2,
   "metadata": {},
   "outputs": [],
   "source": [
    "import warnings\n",
    "import contextlib\n",
    "\n",
    "import requests\n",
    "from urllib3.exceptions import InsecureRequestWarning\n",
    "\n",
    "old_merge_environment_settings = requests.Session.merge_environment_settings\n",
    "\n",
    "@contextlib.contextmanager\n",
    "def no_ssl_verification():\n",
    "    opened_adapters = set()\n",
    "\n",
    "    def merge_environment_settings(self, url, proxies, stream, verify, cert):\n",
    "        # Verification happens only once per connection so we need to close\n",
    "        # all the opened adapters once we're done. Otherwise, the effects of\n",
    "        # verify=False persist beyond the end of this context manager.\n",
    "        opened_adapters.add(self.get_adapter(url))\n",
    "\n",
    "        settings = old_merge_environment_settings(self, url, proxies, stream, verify, cert)\n",
    "        settings['verify'] = False\n",
    "\n",
    "        return settings\n",
    "\n",
    "    requests.Session.merge_environment_settings = merge_environment_settings\n",
    "\n",
    "    try:\n",
    "        with warnings.catch_warnings():\n",
    "            warnings.simplefilter('ignore', InsecureRequestWarning)\n",
    "            yield\n",
    "    finally:\n",
    "        requests.Session.merge_environment_settings = old_merge_environment_settings\n",
    "\n",
    "        for adapter in opened_adapters:\n",
    "            try:\n",
    "                adapter.close()\n",
    "            except:\n",
    "                pass"
   ]
  },
  {
   "cell_type": "code",
   "execution_count": 3,
   "metadata": {},
   "outputs": [],
   "source": [
    "# Your token can be found here: https://quantum-computing.ibm.com/\n",
    "API_TOKEN = \"?\""
   ]
  },
  {
   "cell_type": "code",
   "execution_count": 4,
   "metadata": {},
   "outputs": [],
   "source": [
    "# Save account credentials locally in $HOME/.qiskit/qiskit-ibm.json (you'll need to run this only once!). \n",
    "#IBMProvider.save_account(token=API_TOKEN, overwrite=True)"
   ]
  },
  {
   "cell_type": "code",
   "execution_count": 5,
   "metadata": {
    "scrolled": true
   },
   "outputs": [],
   "source": [
    "# Load a previously saved account and optionally select a \n",
    "# different hub/group/project in case you have access\n",
    "with no_ssl_verification():\n",
    "    provider = IBMProvider(instance=\"ibm-q/open/main\")"
   ]
  },
  {
   "cell_type": "code",
   "execution_count": 6,
   "metadata": {},
   "outputs": [
    {
     "name": "stdout",
     "output_type": "stream",
     "text": [
      "Selected the least busy backend:  simulator_statevector\n"
     ]
    }
   ],
   "source": [
    "# Select quantum device to run on. Select simulator -> True if you want to run on a simulator which is faster\n",
    "# INSPECT DEVICES YOU HAVE ACCESS TO HERE: https://quantum-computing.ibm.com/services/resources?tab=yours\n",
    "with no_ssl_verification():\n",
    "    backends = provider.backends(filters=lambda x: x.configuration().n_qubits >= (2) \\\n",
    "        and (x.configuration().simulator == True) and (x.status().operational))\n",
    "    backend = least_busy(backends)\n",
    "    print(\"Selected the least busy backend: \", backend.name)"
   ]
  },
  {
   "cell_type": "code",
   "execution_count": 7,
   "metadata": {},
   "outputs": [],
   "source": [
    "# If using a simulator it is recommended to use ibmq_qasm_simulator \n",
    "# since it works like a real quantum device, other simulators are different\n",
    "with no_ssl_verification():\n",
    "    backend = provider.get_backend(\"ibmq_qasm_simulator\")"
   ]
  },
  {
   "cell_type": "code",
   "execution_count": 9,
   "metadata": {},
   "outputs": [],
   "source": [
    "# Qiskit Runtime: is a programming model and containerized environment for deploying quantum programs, designed to reduce the \n",
    "# computational cycle time between quantum and classical computers. For details please checkout following resources\n",
    "# https://medium.com/qiskit/so-what-is-qiskit-runtime-anyway-c78aecf3742\n",
    "# https://qiskit.org/ecosystem/ibm-runtime/\n",
    "with no_ssl_verification():\n",
    "    service = QiskitRuntimeService(channel=\"ibm_quantum\")\n",
    "    backend = service.backend(backend.name)"
   ]
  },
  {
   "cell_type": "code",
   "execution_count": 10,
   "metadata": {},
   "outputs": [
    {
     "name": "stdout",
     "output_type": "stream",
     "text": [
      "The ground state electronic energy computed classically is:  -1.857275030202379\n"
     ]
    }
   ],
   "source": [
    "# The solver is the algorithm through which the ground state is computed. \n",
    "# This solver in particular computes the molecule ground state classically\n",
    "npmes = NumPyMinimumEigensolver()\n",
    "\n",
    "H2_op = SparsePauliOp.from_list(\n",
    "    [\n",
    "        (\"II\", -1.052373245772859),\n",
    "        (\"IZ\", 0.39793742484318045),\n",
    "        (\"ZI\", -0.39793742484318045),\n",
    "        (\"ZZ\", -0.01128010425623538),\n",
    "        (\"XX\", 0.18093119978423156),\n",
    "    ]\n",
    ")\n",
    "\n",
    "classical_result = npmes.compute_minimum_eigenvalue(operator=H2_op)\n",
    "print(\"The ground state electronic energy computed classically is: \", classical_result.eigenvalue)"
   ]
  },
  {
   "cell_type": "code",
   "execution_count": 11,
   "metadata": {},
   "outputs": [],
   "source": [
    "# initializing an instance of qiskit_ibm_runtime.Sampler rather than \n",
    "# qiskit.primitives.Sampler to use Qiskit Runtime’s implementation of the Sampler\n",
    "options = Options(environment={\"log_level\": \"INFO\"})\n",
    "# optimization_level=3 adds dynamical decoupling\n",
    "options.optimization_level=3\n",
    "# resilience_level=1 adds readout error mitigation\n",
    "options.resilience_level=0\n",
    "options.execution.shots = 10000"
   ]
  },
  {
   "cell_type": "code",
   "execution_count": 12,
   "metadata": {},
   "outputs": [
    {
     "name": "stdout",
     "output_type": "stream",
     "text": [
      "Eval count:  1 Mean value:  -1.235710042548606\n",
      "Eval count:  2 Mean value:  -1.3749690131030547\n",
      "Eval count:  3 Mean value:  -1.2240279076957983\n",
      "Eval count:  4 Mean value:  -1.1205253793347192\n",
      "Eval count:  5 Mean value:  -1.3563391450586304\n",
      "Eval count:  6 Mean value:  -1.5987971159238294\n",
      "Eval count:  7 Mean value:  -1.5075087020372886\n",
      "Eval count:  8 Mean value:  -1.7985504589939714\n",
      "Eval count:  9 Mean value:  -1.5644521847784756\n",
      "Eval count:  10 Mean value:  -1.3400867835070422\n",
      "Eval count:  11 Mean value:  -1.8274467462272055\n",
      "Eval count:  12 Mean value:  -1.82813315767946\n",
      "Eval count:  13 Mean value:  -1.7358127877531655\n",
      "Eval count:  14 Mean value:  -1.7846693803091824\n",
      "Eval count:  15 Mean value:  -1.7360283557129257\n",
      "Eval count:  16 Mean value:  -1.8003231095992234\n",
      "Eval count:  17 Mean value:  -1.8120836619533451\n",
      "Eval count:  18 Mean value:  -1.841580129023272\n",
      "Eval count:  19 Mean value:  -1.8056337090815753\n",
      "Eval count:  20 Mean value:  -1.8470885598654352\n",
      "Eval count:  21 Mean value:  -1.752156294724419\n",
      "Eval count:  22 Mean value:  -1.8403726370794113\n",
      "Eval count:  23 Mean value:  -1.8375015641664927\n",
      "Eval count:  24 Mean value:  -1.852874916889495\n",
      "Eval count:  25 Mean value:  -1.8469162947716549\n",
      "Eval count:  26 Mean value:  -1.8291558475917027\n",
      "Eval count:  27 Mean value:  -1.853838782312443\n",
      "Eval count:  28 Mean value:  -1.854967628922013\n",
      "Eval count:  29 Mean value:  -1.8508032989075134\n",
      "Eval count:  30 Mean value:  -1.8310569333725635\n",
      "Eval count:  31 Mean value:  -1.856463988571595\n",
      "Eval count:  32 Mean value:  -1.8293527393552274\n",
      "Eval count:  33 Mean value:  -1.853309522754425\n",
      "Eval count:  34 Mean value:  -1.8555991328017853\n",
      "Eval count:  35 Mean value:  -1.853218216052379\n",
      "Eval count:  36 Mean value:  -1.85200249371663\n",
      "Eval count:  37 Mean value:  -1.8530085376602115\n",
      "Eval count:  38 Mean value:  -1.8442637786093896\n",
      "Eval count:  39 Mean value:  -1.84864566063521\n",
      "Eval count:  40 Mean value:  -1.8514404373946727\n",
      "Eval count:  41 Mean value:  -1.8562094381382754\n",
      "Eval count:  42 Mean value:  -1.858930503674094\n",
      "Eval count:  43 Mean value:  -1.860095436703831\n",
      "Eval count:  44 Mean value:  -1.8528557294868189\n",
      "Eval count:  45 Mean value:  -1.8580436307959278\n",
      "Eval count:  46 Mean value:  -1.8546067440624658\n",
      "Eval count:  47 Mean value:  -1.8534997639213957\n",
      "Eval count:  48 Mean value:  -1.8544523056473676\n",
      "Eval count:  49 Mean value:  -1.8572743895890458\n",
      "Eval count:  50 Mean value:  -1.8552942847054186\n",
      "Eval count:  51 Mean value:  -1.8492727938368088\n",
      "Eval count:  52 Mean value:  -1.8565799696688574\n",
      "Eval count:  53 Mean value:  -1.8590707490948548\n",
      "Eval count:  54 Mean value:  -1.858932295611644\n",
      "Eval count:  55 Mean value:  -1.8565812185062516\n",
      "Eval count:  56 Mean value:  -1.8602582360817863\n",
      "Eval count:  57 Mean value:  -1.855935272113733\n",
      "Eval count:  58 Mean value:  -1.855356069845059\n",
      "Eval count:  59 Mean value:  -1.8554784770257384\n",
      "Eval count:  60 Mean value:  -1.858218625471487\n",
      "Eval count:  61 Mean value:  -1.856576481951412\n",
      "Eval count:  62 Mean value:  -1.8626430443690383\n",
      "Eval count:  63 Mean value:  -1.8591584392185627\n",
      "Eval count:  64 Mean value:  -1.8552658716276997\n",
      "Eval count:  65 Mean value:  -1.8609166901076097\n",
      "Eval count:  66 Mean value:  -1.8576125733819626\n",
      "Eval count:  67 Mean value:  -1.854030133542462\n",
      "Eval count:  68 Mean value:  -1.859033532279323\n",
      "Eval count:  69 Mean value:  -1.8563990384690732\n",
      "Eval count:  70 Mean value:  -1.8603971302561804\n",
      "Eval count:  71 Mean value:  -1.854043667583797\n",
      "Eval count:  72 Mean value:  -1.8535405458580738\n",
      "Eval count:  73 Mean value:  -1.8605522380431436\n",
      "Eval count:  74 Mean value:  -1.8570365423274877\n",
      "Eval count:  75 Mean value:  -1.8537494431930757\n",
      "Eval count:  76 Mean value:  -1.8574786381917723\n",
      "Eval count:  77 Mean value:  -1.8561145054498494\n",
      "Eval count:  78 Mean value:  -1.8546855530446593\n",
      "Eval count:  79 Mean value:  -1.8502097118346033\n",
      "Eval count:  80 Mean value:  -1.8612581391886074\n",
      "Eval count:  81 Mean value:  -1.854273519253753\n",
      "Eval count:  82 Mean value:  -1.856700140053258\n",
      "Eval count:  83 Mean value:  -1.8560000938607728\n",
      "Eval count:  84 Mean value:  -1.8549397443580418\n",
      "Eval count:  85 Mean value:  -1.8574432580142535\n",
      "Eval count:  86 Mean value:  -1.8547921873039526\n",
      "Eval count:  87 Mean value:  -1.851924223667047\n",
      "Eval count:  88 Mean value:  -1.8547962565706992\n",
      "Eval count:  89 Mean value:  -1.853705126754716\n",
      "Eval count:  90 Mean value:  -1.8533815933175006\n",
      "Eval count:  91 Mean value:  -1.8565795227263564\n",
      "Eval count:  92 Mean value:  -1.8542838841646612\n",
      "Eval count:  93 Mean value:  -1.8536538390490112\n",
      "Eval count:  94 Mean value:  -1.857045878746594\n",
      "Eval count:  95 Mean value:  -1.8529649617461001\n"
     ]
    }
   ],
   "source": [
    "counts = []\n",
    "values = []\n",
    "\n",
    "def print_and_store_intermediate_result(eval_count, parameters, mean, std):\n",
    "    print(\"Eval count: \", eval_count, \"Mean value: \", mean)\n",
    "    counts.append(eval_count)\n",
    "    values.append(mean)\n",
    "\n",
    "with no_ssl_verification():\n",
    "    with Session(service=service, backend=backend, max_time=\"10s\") as session:\n",
    "        # Qiskit runtimes uses one of two primitives a Sampler for sampling probabilities distributions or an Estimator\n",
    "        estimator = Estimator(options=options)\n",
    "        # the classical optimizer algorithm (other options exist here)\n",
    "        optimizer = COBYLA(maxiter=100)\n",
    "        # the ansatz is a just a guess for the wavefunction of the molecule whose parameters\n",
    "        # will be optimized by VQE class in order to find the valye of the ground state energy\n",
    "        ansatz = TwoLocal(rotation_blocks=\"ry\", entanglement_blocks=\"cz\")\n",
    "        \n",
    "        vqe = VQE(estimator, ansatz, optimizer, callback=print_and_store_intermediate_result)\n",
    "        result = vqe.compute_minimum_eigenvalue(operator=H2_op)"
   ]
  },
  {
   "cell_type": "code",
   "execution_count": 13,
   "metadata": {},
   "outputs": [
    {
     "name": "stdout",
     "output_type": "stream",
     "text": [
      "The ground state electronic energy obtained using a quantum algorithm is:  -1.8529649617461001\n"
     ]
    }
   ],
   "source": [
    "print(\"The ground state electronic energy obtained using a quantum algorithm is: \", result.eigenvalue)"
   ]
  },
  {
   "cell_type": "code",
   "execution_count": 14,
   "metadata": {},
   "outputs": [
    {
     "data": {
      "text/plain": [
       "Text(0.5, 1.0, 'Convergence of VQE for the H2 molecule')"
      ]
     },
     "execution_count": 14,
     "metadata": {},
     "output_type": "execute_result"
    },
    {
     "data": {
      "image/png": "[encoded data removed]",
      "text/plain": [
       "<Figure size 1200x400 with 1 Axes>"
      ]
     },
     "metadata": {},
     "output_type": "display_data"
    }
   ],
   "source": [
    "pylab.rcParams[\"figure.figsize\"] = (12, 4)\n",
    "pylab.plot(counts, values)\n",
    "pylab.xlabel(\"Evaluation count\")\n",
    "pylab.ylabel(\"Ground State Energy\")\n",
    "pylab.title(\"Convergence of VQE for the H2 molecule\")"
   ]
  },
  {
   "cell_type": "code",
   "execution_count": 16,
   "metadata": {},
   "outputs": [
    {
     "data": {
      "text/html": [
       "<h3>Version Information</h3><table><tr><th>Software</th><th>Version</th></tr><tr><td><code>qiskit</code></td><td>0.44.2</td></tr><tr><td><code>qiskit-terra</code></td><td>0.25.2</td></tr><tr><td><code>qiskit_ibm_runtime</code></td><td>0.12.2</td></tr><tr><td><code>qiskit_nature</code></td><td>0.6.2</td></tr><tr><td><code>qiskit_aer</code></td><td>0.12.2</td></tr><tr><td><code>qiskit_ibm_provider</code></td><td>0.7.0</td></tr><tr><td><code>qiskit_algorithms</code></td><td>0.2.1</td></tr><tr><th colspan='2'>System information</th></tr><tr><td>Python version</td><td>3.9.5</td></tr><tr><td>Python compiler</td><td>GCC 11.2.0</td></tr><tr><td>Python build</td><td>default, May 23 2022 18:49:09</td></tr><tr><td>OS</td><td>Linux</td></tr><tr><td>CPUs</td><td>6</td></tr><tr><td>Memory (Gb)</td><td>15.29586410522461</td></tr><tr><td colspan='2'>Tue Oct 24 15:58:47 2023 EEST</td></tr></table>"
      ],
      "text/plain": [
       "<IPython.core.display.HTML object>"
      ]
     },
     "metadata": {},
     "output_type": "display_data"
    }
   ],
   "source": [
    "from qiskit.tools.jupyter import *\n",
    "\n",
    "%qiskit_version_table"
   ]
  },
  {
   "cell_type": "code",
   "execution_count": null,
   "metadata": {},
   "outputs": [],
   "source": []
  }
 ],
 "metadata": {
  "kernelspec": {
   "display_name": "Python 3 (ipykernel)",
   "language": "python",
   "name": "python3"
  },
  "language_info": {
   "codemirror_mode": {
    "name": "ipython",
    "version": 3
   },
   "file_extension": ".py",
   "mimetype": "text/x-python",
   "name": "python",
   "nbconvert_exporter": "python",
   "pygments_lexer": "ipython3",
   "version": "3.9.5"
  }
 },
 "nbformat": 4,
 "nbformat_minor": 4
}
