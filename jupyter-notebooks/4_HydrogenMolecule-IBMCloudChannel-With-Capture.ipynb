{
 "cells": [
  {
   "cell_type": "code",
   "execution_count": 1,
   "metadata": {},
   "outputs": [],
   "source": [
    "import numpy\n",
    "import pylab\n",
    "\n",
    "from qiskit import QuantumCircuit, QuantumRegister, ClassicalRegister, transpile, execute\n",
    "from qiskit_algorithms.optimizers import SPSA, COBYLA\n",
    "from qiskit_algorithms.minimum_eigensolvers import NumPyMinimumEigensolver, VQE\n",
    "\n",
    "from qiskit_ibm_provider import IBMProvider, least_busy\n",
    "from qiskit.circuit.library import TwoLocal\n",
    "from qiskit.circuit.library.standard_gates import XGate\n",
    "from qiskit.primitives import Estimator\n",
    "from qiskit.quantum_info import SparsePauliOp\n",
    "from qiskit.tools.monitor import job_monitor\n",
    "from qiskit.visualization import plot_histogram\n",
    "\n",
    "import qiskit_nature\n",
    "qiskit_nature.settings.use_pauli_sum_op = False\n",
    "\n",
    "from qiskit_nature.units import DistanceUnit\n",
    "from qiskit_nature.second_q.algorithms import GroundStateEigensolver, VQEUCCFactory\n",
    "from qiskit_nature.second_q.algorithms.initial_points import HFInitialPoint\n",
    "from qiskit_nature.second_q.circuit.library import HartreeFock, UCCSD\n",
    "from qiskit_nature.second_q.formats.molecule_info import MoleculeInfo\n",
    "from qiskit_nature.second_q.mappers import JordanWignerMapper, QubitConverter\n",
    "\n",
    "from qiskit_ibm_runtime import QiskitRuntimeService, Options, Sampler, Session, Estimator"
   ]
  },
  {
   "cell_type": "code",
   "execution_count": 2,
   "metadata": {},
   "outputs": [],
   "source": [
    "import warnings\n",
    "import contextlib\n",
    "\n",
    "import requests\n",
    "from urllib3.exceptions import InsecureRequestWarning\n",
    "\n",
    "old_merge_environment_settings = requests.Session.merge_environment_settings\n",
    "\n",
    "@contextlib.contextmanager\n",
    "def no_ssl_verification():\n",
    "    opened_adapters = set()\n",
    "\n",
    "    def merge_environment_settings(self, url, proxies, stream, verify, cert):\n",
    "        # Verification happens only once per connection so we need to close\n",
    "        # all the opened adapters once we're done. Otherwise, the effects of\n",
    "        # verify=False persist beyond the end of this context manager.\n",
    "        opened_adapters.add(self.get_adapter(url))\n",
    "\n",
    "        settings = old_merge_environment_settings(self, url, proxies, stream, verify, cert)\n",
    "        settings['verify'] = False\n",
    "\n",
    "        return settings\n",
    "\n",
    "    requests.Session.merge_environment_settings = merge_environment_settings\n",
    "\n",
    "    try:\n",
    "        with warnings.catch_warnings():\n",
    "            warnings.simplefilter('ignore', InsecureRequestWarning)\n",
    "            yield\n",
    "    finally:\n",
    "        requests.Session.merge_environment_settings = old_merge_environment_settings\n",
    "\n",
    "        for adapter in opened_adapters:\n",
    "            try:\n",
    "                adapter.close()\n",
    "            except:\n",
    "                pass"
   ]
  },
  {
   "cell_type": "code",
   "execution_count": 3,
   "metadata": {},
   "outputs": [],
   "source": [
    "# Your can find your API keys here: https://cloud.ibm.com/iam/apikeys\n",
    "MY_IBM_CLOUD_API_KEY = \"?\"\n",
    "# You can find your Cloud Resource Name instances here: https://cloud.ibm.com/quantum/instances\n",
    "MY_IBM_CLOUD_CRN = \"MUST_TO_ADD_YOUR_CRN_HERE!\""
   ]
  },
  {
   "cell_type": "code",
   "execution_count": 4,
   "metadata": {},
   "outputs": [],
   "source": [
    "# # Save cloud channel credentials locally in $HOME/.qiskit/qiskit-ibm.json (you'll need to run this only once!). \n",
    "#QiskitRuntimeService.save_account(channel=\"ibm_cloud\", token=MY_IBM_CLOUD_API_KEY, instance=MY_IBM_CLOUD_CRN, overwrite=True)"
   ]
  },
  {
   "cell_type": "code",
   "execution_count": 5,
   "metadata": {
    "scrolled": true
   },
   "outputs": [],
   "source": [
    "# Load a previously saved account and optionally select a \n",
    "# different hub/group/project in case you have access\n",
    "with no_ssl_verification():\n",
    "    provider = IBMProvider(instance=\"ibm-q/open/main\")"
   ]
  },
  {
   "cell_type": "code",
   "execution_count": 8,
   "metadata": {},
   "outputs": [],
   "source": [
    "# the ibmq_qasm_simulator works like a real quantum device, in particular the specified number of shots are taken\n",
    "# during simulation unlike other simulators like for example state vector simulator where the ideal result is calculated\n",
    "with no_ssl_verification():\n",
    "    backend = provider.get_backend(\"ibmq_qasm_simulator\")"
   ]
  },
  {
   "cell_type": "code",
   "execution_count": 9,
   "metadata": {},
   "outputs": [],
   "source": [
    "# Qiskit Runtime: is a programming model and containerized environment for deploying quantum programs, designed to reduce the \n",
    "# computational cycle time between quantum and classical computers. For details please checkout following resources\n",
    "# https://medium.com/qiskit/so-what-is-qiskit-runtime-anyway-c78aecf3742\n",
    "# https://qiskit.org/ecosystem/ibm-runtime/\n",
    "#service = QiskitRuntimeService(channel=\"ibm_quantum\")\n",
    "with no_ssl_verification():\n",
    "    service = QiskitRuntimeService(channel=\"ibm_cloud\", instance=MY_IBM_CLOUD_CRN) # ADD YOUR CRN HERE !!!\n",
    "    backend = service.backend(backend.name)"
   ]
  },
  {
   "cell_type": "code",
   "execution_count": 10,
   "metadata": {},
   "outputs": [
    {
     "name": "stdout",
     "output_type": "stream",
     "text": [
      "The ground state electronic energy computed classically is:  -1.857275030202379\n"
     ]
    }
   ],
   "source": [
    "# The solver is the algorithm through which the ground state is computed. \n",
    "# This solver in particular computes the molecule ground state classically\n",
    "npmes = NumPyMinimumEigensolver()\n",
    "\n",
    "H2_op = SparsePauliOp.from_list(\n",
    "    [\n",
    "        (\"II\", -1.052373245772859),\n",
    "        (\"IZ\", 0.39793742484318045),\n",
    "        (\"ZI\", -0.39793742484318045),\n",
    "        (\"ZZ\", -0.01128010425623538),\n",
    "        (\"XX\", 0.18093119978423156),\n",
    "    ]\n",
    ")\n",
    "\n",
    "classical_result = npmes.compute_minimum_eigenvalue(operator=H2_op)\n",
    "print(\"The ground state electronic energy computed classically is: \", classical_result.eigenvalue)"
   ]
  },
  {
   "cell_type": "code",
   "execution_count": 13,
   "metadata": {},
   "outputs": [],
   "source": [
    "# initializing an instance of qiskit_ibm_runtime.Sampler rather than \n",
    "# qiskit.primitives.Sampler to use Qiskit Runtime’s implementation of the Sampler\n",
    "options = Options(environment={\"log_level\": \"INFO\"})\n",
    "# optimization_level=3 adds dynamical decoupling\n",
    "options.optimization_level=3\n",
    "# resilience_level=1 adds readout error mitigation\n",
    "options.resilience_level=0\n",
    "options.execution.shots = 10000"
   ]
  },
  {
   "cell_type": "code",
   "execution_count": 14,
   "metadata": {},
   "outputs": [
    {
     "name": "stdout",
     "output_type": "stream",
     "text": [
      "Eval count:  1 Mean value:  -0.9179470079543736\n",
      "Eval count:  2 Mean value:  -0.9063063617639409\n",
      "Eval count:  3 Mean value:  -0.945697606166289\n",
      "Eval count:  4 Mean value:  -1.3338366535573052\n",
      "Eval count:  5 Mean value:  -1.0004476763236334\n",
      "Eval count:  6 Mean value:  -1.165108741872422\n",
      "Eval count:  7 Mean value:  -1.205635217216178\n",
      "Eval count:  8 Mean value:  -1.1547769369598346\n",
      "Eval count:  9 Mean value:  -1.0354443405461153\n",
      "Eval count:  10 Mean value:  -1.3689112502531984\n",
      "Eval count:  11 Mean value:  -1.3799181846306592\n",
      "Eval count:  12 Mean value:  -1.276841572570195\n",
      "Eval count:  13 Mean value:  -1.5935743189795577\n",
      "Eval count:  14 Mean value:  -1.805861572975705\n",
      "Eval count:  15 Mean value:  -1.8463880407839401\n",
      "Eval count:  16 Mean value:  -1.6942558746757124\n",
      "Eval count:  17 Mean value:  -1.8323999808348672\n",
      "Eval count:  18 Mean value:  -1.8343203010586149\n",
      "Eval count:  19 Mean value:  -1.8208679534663261\n",
      "Eval count:  20 Mean value:  -1.83649270913947\n",
      "Eval count:  21 Mean value:  -1.8134474393070503\n",
      "Eval count:  22 Mean value:  -1.841712511749154\n",
      "Eval count:  23 Mean value:  -1.8275692086589261\n",
      "Eval count:  24 Mean value:  -1.852737483562996\n",
      "Eval count:  25 Mean value:  -1.8525459400176665\n",
      "Eval count:  26 Mean value:  -1.8564719046757236\n",
      "Eval count:  27 Mean value:  -1.8486735940671897\n",
      "Eval count:  28 Mean value:  -1.8526394648937519\n",
      "Eval count:  29 Mean value:  -1.8491594018990332\n",
      "Eval count:  30 Mean value:  -1.8544413628492928\n",
      "Eval count:  31 Mean value:  -1.8485273352239138\n",
      "Eval count:  32 Mean value:  -1.8527027887903986\n",
      "Eval count:  33 Mean value:  -1.8544203232809577\n",
      "Eval count:  34 Mean value:  -1.8571992517991063\n",
      "Eval count:  35 Mean value:  -1.8539444021609315\n",
      "Eval count:  36 Mean value:  -1.8546625048553174\n",
      "Eval count:  37 Mean value:  -1.8541385332873859\n",
      "Eval count:  38 Mean value:  -1.8572710385621733\n",
      "Eval count:  39 Mean value:  -1.8552790975008788\n",
      "Eval count:  40 Mean value:  -1.8547033766983323\n",
      "Eval count:  41 Mean value:  -1.8550689918614012\n",
      "Eval count:  42 Mean value:  -1.852810743676594\n",
      "Eval count:  43 Mean value:  -1.8579103281068199\n",
      "Eval count:  44 Mean value:  -1.8489536414966308\n",
      "Eval count:  45 Mean value:  -1.8562848981773694\n",
      "Eval count:  46 Mean value:  -1.8577282868439873\n",
      "Eval count:  47 Mean value:  -1.8549781263559488\n",
      "Eval count:  48 Mean value:  -1.8536749726912287\n",
      "Eval count:  49 Mean value:  -1.8527493176568903\n",
      "Eval count:  50 Mean value:  -1.8549226857284786\n",
      "Eval count:  51 Mean value:  -1.85518443194228\n",
      "Eval count:  52 Mean value:  -1.848105328345273\n",
      "Eval count:  53 Mean value:  -1.8561095932498817\n",
      "Eval count:  54 Mean value:  -1.8497559164832247\n",
      "Eval count:  55 Mean value:  -1.8561587361494172\n",
      "Eval count:  56 Mean value:  -1.855304918829927\n",
      "Eval count:  57 Mean value:  -1.8542544893793762\n",
      "Eval count:  58 Mean value:  -1.8567814508777851\n",
      "Eval count:  59 Mean value:  -1.851972072523315\n",
      "Eval count:  60 Mean value:  -1.8512792158599942\n",
      "Eval count:  61 Mean value:  -1.8515770646587337\n",
      "Eval count:  62 Mean value:  -1.8522850186202573\n",
      "Eval count:  63 Mean value:  -1.8535542186737541\n",
      "Eval count:  64 Mean value:  -1.8555205608353644\n",
      "Eval count:  65 Mean value:  -1.8598880636711417\n",
      "Eval count:  66 Mean value:  -1.8552458579619842\n",
      "Eval count:  67 Mean value:  -1.8486033564799924\n",
      "Eval count:  68 Mean value:  -1.8565699638778856\n",
      "Eval count:  69 Mean value:  -1.8504089604147977\n",
      "Eval count:  70 Mean value:  -1.8558690238003983\n",
      "Eval count:  71 Mean value:  -1.8596194360963314\n",
      "Eval count:  72 Mean value:  -1.8528227165448334\n",
      "Eval count:  73 Mean value:  -1.8559650728031911\n",
      "Eval count:  74 Mean value:  -1.8521285253053272\n",
      "Eval count:  75 Mean value:  -1.8547943788943573\n",
      "Eval count:  76 Mean value:  -1.8523324615723524\n",
      "Eval count:  77 Mean value:  -1.847595551855451\n",
      "Eval count:  78 Mean value:  -1.8529776081537506\n",
      "Eval count:  79 Mean value:  -1.8527434668714566\n",
      "Eval count:  80 Mean value:  -1.8568811201210504\n",
      "Eval count:  81 Mean value:  -1.8518792867248306\n",
      "Eval count:  82 Mean value:  -1.8590677551041463\n",
      "Eval count:  83 Mean value:  -1.8482613300172386\n",
      "Eval count:  84 Mean value:  -1.8556008410843166\n",
      "Eval count:  85 Mean value:  -1.854009538327445\n"
     ]
    }
   ],
   "source": [
    "counts = []\n",
    "values = []\n",
    "\n",
    "def print_and_store_intermediate_result(eval_count, parameters, mean, std):\n",
    "    print(\"Eval count: \", eval_count, \"Mean value: \", mean)\n",
    "    counts.append(eval_count)\n",
    "    values.append(mean)\n",
    "\n",
    "with no_ssl_verification():\n",
    "    with Session(service=service, backend=backend, max_time=\"10s\") as session:\n",
    "        # Qiskit runtimes uses one of two primitives a Sampler for sampling probabilities distributions or an Estimator\n",
    "        estimator = Estimator(options=options)\n",
    "        # the classical optimizer algorithm (other options exist here)\n",
    "        optimizer = COBYLA(maxiter=100)\n",
    "        # the ansatz is a just a guess for the wavefunction of the molecule whose parameters\n",
    "        # will be optimized by VQE class in order to find the valye of the ground state energy\n",
    "        ansatz = TwoLocal(rotation_blocks=\"ry\", entanglement_blocks=\"cz\")\n",
    "        \n",
    "        vqe = VQE(estimator, ansatz, optimizer, callback=print_and_store_intermediate_result)\n",
    "        result = vqe.compute_minimum_eigenvalue(operator=H2_op)"
   ]
  },
  {
   "cell_type": "code",
   "execution_count": 15,
   "metadata": {},
   "outputs": [
    {
     "name": "stdout",
     "output_type": "stream",
     "text": [
      "The ground state electronic energy obtained using a quantum algorithm is:  -1.854009538327445\n"
     ]
    }
   ],
   "source": [
    "print(\"The ground state electronic energy obtained using a quantum algorithm is: \", result.eigenvalue)"
   ]
  },
  {
   "cell_type": "code",
   "execution_count": 16,
   "metadata": {},
   "outputs": [
    {
     "data": {
      "text/plain": [
       "Text(0.5, 1.0, 'Convergence of VQE for the H2 molecule')"
      ]
     },
     "execution_count": 16,
     "metadata": {},
     "output_type": "execute_result"
    },
    {
     "data": {
      "image/png": "[encoded data removed]",
      "text/plain": [
       "<Figure size 1200x400 with 1 Axes>"
      ]
     },
     "metadata": {},
     "output_type": "display_data"
    }
   ],
   "source": [
    "pylab.rcParams[\"figure.figsize\"] = (12, 4)\n",
    "pylab.plot(counts, values)\n",
    "pylab.xlabel(\"Evaluation count\")\n",
    "pylab.ylabel(\"Ground State Energy\")\n",
    "pylab.title(\"Convergence of VQE for the H2 molecule\")"
   ]
  },
  {
   "cell_type": "code",
   "execution_count": 17,
   "metadata": {},
   "outputs": [
    {
     "data": {
      "text/html": [
       "<h3>Version Information</h3><table><tr><th>Software</th><th>Version</th></tr><tr><td><code>qiskit</code></td><td>0.44.2</td></tr><tr><td><code>qiskit-terra</code></td><td>0.25.2</td></tr><tr><td><code>qiskit_nature</code></td><td>0.6.2</td></tr><tr><td><code>qiskit_ibm_provider</code></td><td>0.7.0</td></tr><tr><td><code>qiskit_aer</code></td><td>0.12.2</td></tr><tr><td><code>qiskit_ibm_runtime</code></td><td>0.12.2</td></tr><tr><td><code>qiskit_algorithms</code></td><td>0.2.1</td></tr><tr><th colspan='2'>System information</th></tr><tr><td>Python version</td><td>3.9.5</td></tr><tr><td>Python compiler</td><td>GCC 11.2.0</td></tr><tr><td>Python build</td><td>default, May 23 2022 18:49:09</td></tr><tr><td>OS</td><td>Linux</td></tr><tr><td>CPUs</td><td>6</td></tr><tr><td>Memory (Gb)</td><td>15.29586410522461</td></tr><tr><td colspan='2'>Tue Oct 24 16:11:33 2023 EEST</td></tr></table>"
      ],
      "text/plain": [
       "<IPython.core.display.HTML object>"
      ]
     },
     "metadata": {},
     "output_type": "display_data"
    }
   ],
   "source": [
    "from qiskit.tools.jupyter import *\n",
    "\n",
    "%qiskit_version_table"
   ]
  },
  {
   "cell_type": "code",
   "execution_count": null,
   "metadata": {},
   "outputs": [],
   "source": []
  }
 ],
 "metadata": {
  "kernelspec": {
   "display_name": "Python 3 (ipykernel)",
   "language": "python",
   "name": "python3"
  },
  "language_info": {
   "codemirror_mode": {
    "name": "ipython",
    "version": 3
   },
   "file_extension": ".py",
   "mimetype": "text/x-python",
   "name": "python",
   "nbconvert_exporter": "python",
   "pygments_lexer": "ipython3",
   "version": "3.9.5"
  }
 },
 "nbformat": 4,
 "nbformat_minor": 4
}
